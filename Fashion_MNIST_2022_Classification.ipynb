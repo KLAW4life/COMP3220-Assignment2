{
  "nbformat": 4,
  "nbformat_minor": 0,
  "metadata": {
    "colab": {
      "provenance": [],
      "toc_visible": true,
      "include_colab_link": true
    },
    "kernelspec": {
      "name": "python3",
      "display_name": "Python 3"
    }
  },
  "cells": [
    {
      "cell_type": "markdown",
      "metadata": {
        "id": "view-in-github",
        "colab_type": "text"
      },
      "source": [
        "<a href=\"https://colab.research.google.com/github/KLAW4life/COMP3220-Assignment2/blob/main/Fashion_MNIST_2022_Classification.ipynb\" target=\"_parent\"><img src=\"https://colab.research.google.com/assets/colab-badge.svg\" alt=\"Open In Colab\"/></a>"
      ]
    },
    {
      "cell_type": "markdown",
      "metadata": {
        "id": "YOUzHRHN3vAT"
      },
      "source": [
        "# Fashion Clothing Classifier\n",
        "\n",
        "We have been offered a job at ML Solutions Limited to create a neural network classifier that can classify images of articles of clothing. We will be using the Fashion MNIST dataset. \n",
        "\n",
        "Total - 10 marks\n",
        "DUE DATE - November 17th 2022, 11pm"
      ]
    },
    {
      "cell_type": "code",
      "metadata": {
        "id": "iSbYnuQlQXat"
      },
      "source": [
        "import tensorflow as tf\n",
        "import numpy as np"
      ],
      "execution_count": null,
      "outputs": []
    },
    {
      "cell_type": "code",
      "metadata": {
        "id": "5bqNYCG9tOn8"
      },
      "source": [
        "fashion_mnist = tf.keras.datasets.fashion_mnist"
      ],
      "execution_count": null,
      "outputs": []
    },
    {
      "cell_type": "code",
      "metadata": {
        "id": "PkL32QxRtex6",
        "colab": {
          "base_uri": "https://localhost:8080/"
        },
        "outputId": "60bbaefb-2704-421a-c096-a9bf345c0ffd"
      },
      "source": [
        "(train_images, train_labels), (test_images, test_labels) = fashion_mnist.load_data()"
      ],
      "execution_count": null,
      "outputs": [
        {
          "output_type": "stream",
          "name": "stdout",
          "text": [
            "Downloading data from https://storage.googleapis.com/tensorflow/tf-keras-datasets/train-labels-idx1-ubyte.gz\n",
            "29515/29515 [==============================] - 0s 0us/step\n",
            "Downloading data from https://storage.googleapis.com/tensorflow/tf-keras-datasets/train-images-idx3-ubyte.gz\n",
            "26421880/26421880 [==============================] - 0s 0us/step\n",
            "Downloading data from https://storage.googleapis.com/tensorflow/tf-keras-datasets/t10k-labels-idx1-ubyte.gz\n",
            "5148/5148 [==============================] - 0s 0us/step\n",
            "Downloading data from https://storage.googleapis.com/tensorflow/tf-keras-datasets/t10k-images-idx3-ubyte.gz\n",
            "4422102/4422102 [==============================] - 0s 0us/step\n"
          ]
        }
      ]
    },
    {
      "cell_type": "code",
      "metadata": {
        "id": "G2AJdfaZtj9r",
        "colab": {
          "base_uri": "https://localhost:8080/"
        },
        "outputId": "446254a3-16b9-487d-a615-68d0652add84"
      },
      "source": [
        "train_images.shape, test_images.shape"
      ],
      "execution_count": null,
      "outputs": [
        {
          "output_type": "execute_result",
          "data": {
            "text/plain": [
              "((60000, 28, 28), (10000, 28, 28))"
            ]
          },
          "metadata": {},
          "execution_count": 4
        }
      ]
    },
    {
      "cell_type": "markdown",
      "metadata": {
        "id": "SRwpCiLHtr7B"
      },
      "source": [
        "For this problem we are only going to classify Tshirt which maps to 0 and Trousers which map to 1. Let us extract only the data that maps to those two labels."
      ]
    },
    {
      "cell_type": "code",
      "metadata": {
        "id": "B8djEJFOtn5F"
      },
      "source": [
        "x_train, y_train = train_images[(train_labels==1) | (train_labels==0)],train_labels[(train_labels==1) | (train_labels==0)]"
      ],
      "execution_count": null,
      "outputs": []
    },
    {
      "cell_type": "code",
      "metadata": {
        "id": "U7aMLCLCuGyx",
        "colab": {
          "base_uri": "https://localhost:8080/"
        },
        "outputId": "d6a40b8a-c24d-43e7-ba77-f0d22400d029"
      },
      "source": [
        "x_train.shape, y_train.shape"
      ],
      "execution_count": null,
      "outputs": [
        {
          "output_type": "execute_result",
          "data": {
            "text/plain": [
              "((12000, 28, 28), (12000,))"
            ]
          },
          "metadata": {},
          "execution_count": 6
        }
      ]
    },
    {
      "cell_type": "markdown",
      "metadata": {
        "id": "Dq5GcxhRvIZt"
      },
      "source": [
        "We do the same on the test data"
      ]
    },
    {
      "cell_type": "code",
      "metadata": {
        "id": "ZxITpob3u0il"
      },
      "source": [
        "# FILL IN HERE\n",
        "x_test, y_test = test_images[(test_labels==1) | (test_labels==0)],test_labels[(test_labels==1) | (test_labels==0)]\n",
        "# Do the same to the x_test and y_test\n"
      ],
      "execution_count": null,
      "outputs": []
    },
    {
      "cell_type": "code",
      "metadata": {
        "id": "aBW7ikV84qKz",
        "colab": {
          "base_uri": "https://localhost:8080/"
        },
        "outputId": "642b5776-5f04-4ded-c39f-0698d4d1f0ac"
      },
      "source": [
        "x_test.shape, y_test.shape"
      ],
      "execution_count": null,
      "outputs": [
        {
          "output_type": "execute_result",
          "data": {
            "text/plain": [
              "((2000, 28, 28), (2000,))"
            ]
          },
          "metadata": {},
          "execution_count": 8
        }
      ]
    },
    {
      "cell_type": "markdown",
      "metadata": {
        "id": "b_4SxcsLva_K"
      },
      "source": [
        "Let us see what our data looks like. We will pick a random instance from the dataset and visualize it."
      ]
    },
    {
      "cell_type": "code",
      "metadata": {
        "id": "OMkpiDcNvW0n",
        "colab": {
          "base_uri": "https://localhost:8080/",
          "height": 282
        },
        "outputId": "fe3edb2d-5d3b-4ed1-c307-767709b88894"
      },
      "source": [
        "import random\n",
        "import matplotlib.pyplot as plt\n",
        "picked_idx = random.randint(0, x_train.shape[0]-1)\n",
        "\n",
        "img_picked = x_train[picked_idx]\n",
        "label = y_train[picked_idx]\n",
        "\n",
        "plt.imshow(img_picked)\n",
        "print('Label: ', label)\n"
      ],
      "execution_count": null,
      "outputs": [
        {
          "output_type": "stream",
          "name": "stdout",
          "text": [
            "Label:  1\n"
          ]
        },
        {
          "output_type": "display_data",
          "data": {
            "text/plain": [
              "<Figure size 432x288 with 1 Axes>"
            ],
            "image/png": "[encoded data removed]"
          },
          "metadata": {
            "needs_background": "light"
          }
        }
      ]
    },
    {
      "cell_type": "markdown",
      "metadata": {
        "id": "tDWW7n1Hwhe2"
      },
      "source": [
        "# Preprocessing\n",
        "\n",
        "Before we are ready to train our predict whether an image is a 1 or a 0, we need to do some preprocessing on the data."
      ]
    },
    {
      "cell_type": "code",
      "metadata": {
        "id": "oikiBpenwhGD"
      },
      "source": [
        "#FILL IN HERE\n",
        "\n",
        "# Neural networks play better with small numbers. Images tend to have pixel values between 0 and 255. \n",
        "# Rescale this to 0-1. Hint try dividing\n",
        "x_train = x_train.astype(float)/255\n",
        "x_test = x_test.astype(float) / 255\n",
        "# Do this to x_train and x_test\n",
        "# Remember to store the output back into x_train and x_test"
      ],
      "execution_count": null,
      "outputs": []
    },
    {
      "cell_type": "code",
      "metadata": {
        "id": "1VsqKZSmyERP"
      },
      "source": [
        "#FILL IN HERE\n",
        "# Since you will be using a regular Dense neural network. The network expects your data to be flattened from 2D to 1D\n",
        "# Rehsape the data from (N, 28, 28) to (N, 784) N represents number of images. \n",
        "# Each image is 28x28, we want to chage that to one flat row with 784\n",
        "x_train = x_train.reshape((x_train.shape[0],x_train.shape[1]*x_train.shape[2]))\n",
        "x_test = x_test.reshape((x_test.shape[0],x_test.shape[1]*x_test.shape[2]))\n"
      ],
      "execution_count": null,
      "outputs": []
    },
    {
      "cell_type": "code",
      "metadata": {
        "id": "oa2FYvIs5NgD",
        "colab": {
          "base_uri": "https://localhost:8080/"
        },
        "outputId": "e7cc7cc2-ccdc-447f-c24e-b8afbaf42761"
      },
      "source": [
        "x_train.shape,x_test.shape"
      ],
      "execution_count": null,
      "outputs": [
        {
          "output_type": "execute_result",
          "data": {
            "text/plain": [
              "((12000, 784), (2000, 784))"
            ]
          },
          "metadata": {},
          "execution_count": 12
        }
      ]
    },
    {
      "cell_type": "markdown",
      "metadata": {
        "id": "utKUP2Sw4M_G"
      },
      "source": [
        "# Create Model"
      ]
    },
    {
      "cell_type": "markdown",
      "metadata": {
        "id": "P9JEuHOPwRBG"
      },
      "source": [
        "Create a neural network model using tensorflow with at least 1 hidden layer. The output layer must have 1 unit. Experiment with different number of layers and number of units in each layer. This is where your creativitiy as a machine learning engineer comes in to play."
      ]
    },
    {
      "cell_type": "code",
      "metadata": {
        "id": "vUKwJdclvshK"
      },
      "source": [
        "# FILL IN HERE\n",
        "# Ensure the output layer uses sigmoid for activation\n",
        "# Finish the line below\n",
        "model = tf.keras.Sequential([\n",
        "    tf.keras.layers.Dense(12, activation =\"relu\"),\n",
        "    tf.keras.layers.Dense(8, activation =\"relu\"),\n",
        "    tf.keras.layers.Dense(1, activation =\"sigmoid\")\n",
        "])"
      ],
      "execution_count": null,
      "outputs": []
    },
    {
      "cell_type": "markdown",
      "metadata": {
        "id": "gE3n1ppy0uVa"
      },
      "source": [
        "Compile the model"
      ]
    },
    {
      "cell_type": "code",
      "metadata": {
        "id": "hpDTrhi40tW3"
      },
      "source": [
        "# FILL IN HERE\n",
        "# e.g model.compile\n",
        "# Ensure you use the binary cross entropy loss function and sgd/adam for your optmizer\n",
        "model.compile(optimizer='adam',loss='binary_crossentropy', metrics=['accuracy'])"
      ],
      "execution_count": null,
      "outputs": []
    },
    {
      "cell_type": "markdown",
      "metadata": {
        "id": "4_dOXDNi0_NR"
      },
      "source": [
        "Now to train the model. Store the ouput of model.fit in a vairable called history as we are going to use this to plot the train accuracy and loss. Try different values for batch size and epochs. The aim is to get the highest test accuaracy possible."
      ]
    },
    {
      "cell_type": "code",
      "metadata": {
        "id": "hARFVH6S0-h7",
        "colab": {
          "base_uri": "https://localhost:8080/"
        },
        "outputId": "6f93f6a9-4737-4254-8888-b15ab6c02661"
      },
      "source": [
        "# FILL IN HERE\n",
        "# Uncomment and finish the line below\n",
        "history = model.fit(x_train, y_train, epochs = 150, batch_size= 10)"
      ],
      "execution_count": null,
      "outputs": [
        {
          "output_type": "stream",
          "name": "stdout",
          "text": [
            "Epoch 1/150\n",
            "1200/1200 [==============================] - 3s 2ms/step - loss: 0.0767 - accuracy: 0.9749\n",
            "Epoch 2/150\n",
            "1200/1200 [==============================] - 3s 3ms/step - loss: 0.0394 - accuracy: 0.9865\n",
            "Epoch 3/150\n",
            "1200/1200 [==============================] - 2s 2ms/step - loss: 0.0320 - accuracy: 0.9897\n",
            "Epoch 4/150\n",
            "1200/1200 [==============================] - 2s 2ms/step - loss: 0.0265 - accuracy: 0.9909\n",
            "Epoch 5/150\n",
            "1200/1200 [==============================] - 2s 2ms/step - loss: 0.0232 - accuracy: 0.9923\n",
            "Epoch 6/150\n",
            "1200/1200 [==============================] - 2s 2ms/step - loss: 0.0218 - accuracy: 0.9923\n",
            "Epoch 7/150\n",
            "1200/1200 [==============================] - 2s 2ms/step - loss: 0.0206 - accuracy: 0.9937\n",
            "Epoch 8/150\n",
            "1200/1200 [==============================] - 2s 2ms/step - loss: 0.0157 - accuracy: 0.9945\n",
            "Epoch 9/150\n",
            "1200/1200 [==============================] - 2s 2ms/step - loss: 0.0162 - accuracy: 0.9951\n",
            "Epoch 10/150\n",
            "1200/1200 [==============================] - 2s 2ms/step - loss: 0.0137 - accuracy: 0.9957\n",
            "Epoch 11/150\n",
            "1200/1200 [==============================] - 2s 2ms/step - loss: 0.0135 - accuracy: 0.9949\n",
            "Epoch 12/150\n",
            "1200/1200 [==============================] - 2s 2ms/step - loss: 0.0111 - accuracy: 0.9958\n",
            "Epoch 13/150\n",
            "1200/1200 [==============================] - 3s 2ms/step - loss: 0.0093 - accuracy: 0.9968\n",
            "Epoch 14/150\n",
            "1200/1200 [==============================] - 2s 2ms/step - loss: 0.0097 - accuracy: 0.9966\n",
            "Epoch 15/150\n",
            "1200/1200 [==============================] - 2s 2ms/step - loss: 0.0094 - accuracy: 0.9967\n",
            "Epoch 16/150\n",
            "1200/1200 [==============================] - 2s 2ms/step - loss: 0.0078 - accuracy: 0.9977\n",
            "Epoch 17/150\n",
            "1200/1200 [==============================] - 2s 2ms/step - loss: 0.0080 - accuracy: 0.9973\n",
            "Epoch 18/150\n",
            "1200/1200 [==============================] - 3s 2ms/step - loss: 0.0073 - accuracy: 0.9974\n",
            "Epoch 19/150\n",
            "1200/1200 [==============================] - 4s 3ms/step - loss: 0.0063 - accuracy: 0.9979\n",
            "Epoch 20/150\n",
            "1200/1200 [==============================] - 3s 3ms/step - loss: 0.0068 - accuracy: 0.9978\n",
            "Epoch 21/150\n",
            "1200/1200 [==============================] - 2s 2ms/step - loss: 0.0051 - accuracy: 0.9982\n",
            "Epoch 22/150\n",
            "1200/1200 [==============================] - 2s 2ms/step - loss: 0.0066 - accuracy: 0.9982\n",
            "Epoch 23/150\n",
            "1200/1200 [==============================] - 2s 2ms/step - loss: 0.0044 - accuracy: 0.9986\n",
            "Epoch 24/150\n",
            "1200/1200 [==============================] - 2s 2ms/step - loss: 0.0053 - accuracy: 0.9987\n",
            "Epoch 25/150\n",
            "1200/1200 [==============================] - 2s 2ms/step - loss: 0.0049 - accuracy: 0.9983\n",
            "Epoch 26/150\n",
            "1200/1200 [==============================] - 2s 2ms/step - loss: 0.0036 - accuracy: 0.9986\n",
            "Epoch 27/150\n",
            "1200/1200 [==============================] - 2s 2ms/step - loss: 0.0072 - accuracy: 0.9980\n",
            "Epoch 28/150\n",
            "1200/1200 [==============================] - 2s 2ms/step - loss: 0.0038 - accuracy: 0.9985\n",
            "Epoch 29/150\n",
            "1200/1200 [==============================] - 2s 2ms/step - loss: 0.0028 - accuracy: 0.9989\n",
            "Epoch 30/150\n",
            "1200/1200 [==============================] - 2s 2ms/step - loss: 0.0042 - accuracy: 0.9987\n",
            "Epoch 31/150\n",
            "1200/1200 [==============================] - 2s 2ms/step - loss: 0.0021 - accuracy: 0.9992\n",
            "Epoch 32/150\n",
            "1200/1200 [==============================] - 2s 2ms/step - loss: 0.0039 - accuracy: 0.9985\n",
            "Epoch 33/150\n",
            "1200/1200 [==============================] - 3s 2ms/step - loss: 0.0038 - accuracy: 0.9987\n",
            "Epoch 34/150\n",
            "1200/1200 [==============================] - 2s 2ms/step - loss: 0.0012 - accuracy: 0.9998\n",
            "Epoch 35/150\n",
            "1200/1200 [==============================] - 3s 3ms/step - loss: 0.0035 - accuracy: 0.9987\n",
            "Epoch 36/150\n",
            "1200/1200 [==============================] - 2s 2ms/step - loss: 0.0036 - accuracy: 0.9991\n",
            "Epoch 37/150\n",
            "1200/1200 [==============================] - 3s 2ms/step - loss: 0.0029 - accuracy: 0.9989\n",
            "Epoch 38/150\n",
            "1200/1200 [==============================] - 2s 2ms/step - loss: 3.8922e-04 - accuracy: 1.0000\n",
            "Epoch 39/150\n",
            "1200/1200 [==============================] - 2s 2ms/step - loss: 3.2707e-04 - accuracy: 0.9999\n",
            "Epoch 40/150\n",
            "1200/1200 [==============================] - 2s 2ms/step - loss: 0.0066 - accuracy: 0.9987\n",
            "Epoch 41/150\n",
            "1200/1200 [==============================] - 2s 2ms/step - loss: 9.4588e-04 - accuracy: 0.9997\n",
            "Epoch 42/150\n",
            "1200/1200 [==============================] - 2s 2ms/step - loss: 0.0043 - accuracy: 0.9985\n",
            "Epoch 43/150\n",
            "1200/1200 [==============================] - 2s 2ms/step - loss: 0.0018 - accuracy: 0.9993\n",
            "Epoch 44/150\n",
            "1200/1200 [==============================] - 2s 2ms/step - loss: 2.1602e-04 - accuracy: 1.0000\n",
            "Epoch 45/150\n",
            "1200/1200 [==============================] - 2s 2ms/step - loss: 0.0019 - accuracy: 0.9994\n",
            "Epoch 46/150\n",
            "1200/1200 [==============================] - 2s 2ms/step - loss: 0.0052 - accuracy: 0.9984\n",
            "Epoch 47/150\n",
            "1200/1200 [==============================] - 2s 2ms/step - loss: 0.0020 - accuracy: 0.9992\n",
            "Epoch 48/150\n",
            "1200/1200 [==============================] - 2s 2ms/step - loss: 0.0020 - accuracy: 0.9996\n",
            "Epoch 49/150\n",
            "1200/1200 [==============================] - 2s 2ms/step - loss: 1.6588e-04 - accuracy: 1.0000\n",
            "Epoch 50/150\n",
            "1200/1200 [==============================] - 2s 2ms/step - loss: 1.0792e-04 - accuracy: 1.0000\n",
            "Epoch 51/150\n",
            "1200/1200 [==============================] - 4s 3ms/step - loss: 7.3517e-05 - accuracy: 1.0000\n",
            "Epoch 52/150\n",
            "1200/1200 [==============================] - 4s 3ms/step - loss: 0.0045 - accuracy: 0.9992\n",
            "Epoch 53/150\n",
            "1200/1200 [==============================] - 2s 2ms/step - loss: 0.0012 - accuracy: 0.9995\n",
            "Epoch 54/150\n",
            "1200/1200 [==============================] - 3s 2ms/step - loss: 6.7782e-05 - accuracy: 1.0000\n",
            "Epoch 55/150\n",
            "1200/1200 [==============================] - 2s 2ms/step - loss: 4.5050e-05 - accuracy: 1.0000\n",
            "Epoch 56/150\n",
            "1200/1200 [==============================] - 2s 2ms/step - loss: 4.6391e-05 - accuracy: 1.0000\n",
            "Epoch 57/150\n",
            "1200/1200 [==============================] - 2s 2ms/step - loss: 3.0421e-05 - accuracy: 1.0000\n",
            "Epoch 58/150\n",
            "1200/1200 [==============================] - 2s 2ms/step - loss: 0.0125 - accuracy: 0.9973\n",
            "Epoch 59/150\n",
            "1200/1200 [==============================] - 2s 2ms/step - loss: 6.9349e-04 - accuracy: 0.9998\n",
            "Epoch 60/150\n",
            "1200/1200 [==============================] - 2s 2ms/step - loss: 0.0019 - accuracy: 0.9992\n",
            "Epoch 61/150\n",
            "1200/1200 [==============================] - 2s 2ms/step - loss: 0.0026 - accuracy: 0.9993\n",
            "Epoch 62/150\n",
            "1200/1200 [==============================] - 2s 2ms/step - loss: 0.0032 - accuracy: 0.9990\n",
            "Epoch 63/150\n",
            "1200/1200 [==============================] - 2s 2ms/step - loss: 1.7990e-04 - accuracy: 1.0000\n",
            "Epoch 64/150\n",
            "1200/1200 [==============================] - 2s 2ms/step - loss: 0.0016 - accuracy: 0.9995\n",
            "Epoch 65/150\n",
            "1200/1200 [==============================] - 2s 2ms/step - loss: 0.0020 - accuracy: 0.9993\n",
            "Epoch 66/150\n",
            "1200/1200 [==============================] - 3s 3ms/step - loss: 4.4006e-05 - accuracy: 1.0000\n",
            "Epoch 67/150\n",
            "1200/1200 [==============================] - 3s 2ms/step - loss: 2.9047e-05 - accuracy: 1.0000\n",
            "Epoch 68/150\n",
            "1200/1200 [==============================] - 3s 2ms/step - loss: 2.0528e-05 - accuracy: 1.0000\n",
            "Epoch 69/150\n",
            "1200/1200 [==============================] - 3s 2ms/step - loss: 1.2835e-05 - accuracy: 1.0000\n",
            "Epoch 70/150\n",
            "1200/1200 [==============================] - 2s 2ms/step - loss: 8.9134e-06 - accuracy: 1.0000\n",
            "Epoch 71/150\n",
            "1200/1200 [==============================] - 3s 2ms/step - loss: 5.5722e-06 - accuracy: 1.0000\n",
            "Epoch 72/150\n",
            "1200/1200 [==============================] - 3s 2ms/step - loss: 3.6608e-06 - accuracy: 1.0000\n",
            "Epoch 73/150\n",
            "1200/1200 [==============================] - 3s 2ms/step - loss: 0.0056 - accuracy: 0.9994\n",
            "Epoch 74/150\n",
            "1200/1200 [==============================] - 3s 2ms/step - loss: 0.0028 - accuracy: 0.9994\n",
            "Epoch 75/150\n",
            "1200/1200 [==============================] - 3s 2ms/step - loss: 1.8779e-04 - accuracy: 1.0000\n",
            "Epoch 76/150\n",
            "1200/1200 [==============================] - 2s 2ms/step - loss: 2.0826e-05 - accuracy: 1.0000\n",
            "Epoch 77/150\n",
            "1200/1200 [==============================] - 3s 2ms/step - loss: 1.4589e-05 - accuracy: 1.0000\n",
            "Epoch 78/150\n",
            "1200/1200 [==============================] - 2s 2ms/step - loss: 0.0056 - accuracy: 0.9991\n",
            "Epoch 79/150\n",
            "1200/1200 [==============================] - 3s 2ms/step - loss: 6.5429e-05 - accuracy: 1.0000\n",
            "Epoch 80/150\n",
            "1200/1200 [==============================] - 2s 2ms/step - loss: 2.8102e-05 - accuracy: 1.0000\n",
            "Epoch 81/150\n",
            "1200/1200 [==============================] - 2s 2ms/step - loss: 1.3168e-05 - accuracy: 1.0000\n",
            "Epoch 82/150\n",
            "1200/1200 [==============================] - 4s 3ms/step - loss: 7.8868e-06 - accuracy: 1.0000\n",
            "Epoch 83/150\n",
            "1200/1200 [==============================] - 2s 2ms/step - loss: 4.7374e-06 - accuracy: 1.0000\n",
            "Epoch 84/150\n",
            "1200/1200 [==============================] - 3s 2ms/step - loss: 3.1856e-06 - accuracy: 1.0000\n",
            "Epoch 85/150\n",
            "1200/1200 [==============================] - 2s 2ms/step - loss: 9.8807e-04 - accuracy: 0.9998\n",
            "Epoch 86/150\n",
            "1200/1200 [==============================] - 3s 2ms/step - loss: 0.0046 - accuracy: 0.9987\n",
            "Epoch 87/150\n",
            "1200/1200 [==============================] - 2s 2ms/step - loss: 0.0012 - accuracy: 0.9997\n",
            "Epoch 88/150\n",
            "1200/1200 [==============================] - 2s 2ms/step - loss: 0.0027 - accuracy: 0.9991\n",
            "Epoch 89/150\n",
            "1200/1200 [==============================] - 2s 2ms/step - loss: 1.2205e-04 - accuracy: 1.0000\n",
            "Epoch 90/150\n",
            "1200/1200 [==============================] - 2s 2ms/step - loss: 3.6466e-05 - accuracy: 1.0000\n",
            "Epoch 91/150\n",
            "1200/1200 [==============================] - 2s 2ms/step - loss: 0.0014 - accuracy: 0.9998\n",
            "Epoch 92/150\n",
            "1200/1200 [==============================] - 2s 2ms/step - loss: 2.8044e-05 - accuracy: 1.0000\n",
            "Epoch 93/150\n",
            "1200/1200 [==============================] - 2s 2ms/step - loss: 2.1236e-05 - accuracy: 1.0000\n",
            "Epoch 94/150\n",
            "1200/1200 [==============================] - 2s 2ms/step - loss: 1.6061e-05 - accuracy: 1.0000\n",
            "Epoch 95/150\n",
            "1200/1200 [==============================] - 3s 2ms/step - loss: 7.2951e-06 - accuracy: 1.0000\n",
            "Epoch 96/150\n",
            "1200/1200 [==============================] - 3s 2ms/step - loss: 0.0024 - accuracy: 0.9995\n",
            "Epoch 97/150\n",
            "1200/1200 [==============================] - 2s 2ms/step - loss: 3.8021e-05 - accuracy: 1.0000\n",
            "Epoch 98/150\n",
            "1200/1200 [==============================] - 3s 3ms/step - loss: 1.2870e-05 - accuracy: 1.0000\n",
            "Epoch 99/150\n",
            "1200/1200 [==============================] - 3s 2ms/step - loss: 5.6085e-06 - accuracy: 1.0000\n",
            "Epoch 100/150\n",
            "1200/1200 [==============================] - 2s 2ms/step - loss: 3.7619e-06 - accuracy: 1.0000\n",
            "Epoch 101/150\n",
            "1200/1200 [==============================] - 3s 2ms/step - loss: 3.4111e-06 - accuracy: 1.0000\n",
            "Epoch 102/150\n",
            "1200/1200 [==============================] - 2s 2ms/step - loss: 1.1718e-06 - accuracy: 1.0000\n",
            "Epoch 103/150\n",
            "1200/1200 [==============================] - 2s 2ms/step - loss: 7.9066e-07 - accuracy: 1.0000\n",
            "Epoch 104/150\n",
            "1200/1200 [==============================] - 2s 2ms/step - loss: 5.8525e-07 - accuracy: 1.0000\n",
            "Epoch 105/150\n",
            "1200/1200 [==============================] - 2s 2ms/step - loss: 0.0049 - accuracy: 0.9988\n",
            "Epoch 106/150\n",
            "1200/1200 [==============================] - 3s 2ms/step - loss: 7.2837e-05 - accuracy: 1.0000\n",
            "Epoch 107/150\n",
            "1200/1200 [==============================] - 2s 2ms/step - loss: 1.4670e-05 - accuracy: 1.0000\n",
            "Epoch 108/150\n",
            "1200/1200 [==============================] - 3s 2ms/step - loss: 8.5387e-06 - accuracy: 1.0000\n",
            "Epoch 109/150\n",
            "1200/1200 [==============================] - 2s 2ms/step - loss: 6.8969e-06 - accuracy: 1.0000\n",
            "Epoch 110/150\n",
            "1200/1200 [==============================] - 3s 2ms/step - loss: 4.9087e-06 - accuracy: 1.0000\n",
            "Epoch 111/150\n",
            "1200/1200 [==============================] - 3s 2ms/step - loss: 2.7456e-06 - accuracy: 1.0000\n",
            "Epoch 112/150\n",
            "1200/1200 [==============================] - 2s 2ms/step - loss: 1.6788e-06 - accuracy: 1.0000\n",
            "Epoch 113/150\n",
            "1200/1200 [==============================] - 4s 3ms/step - loss: 6.7547e-07 - accuracy: 1.0000\n",
            "Epoch 114/150\n",
            "1200/1200 [==============================] - 3s 3ms/step - loss: 4.3959e-07 - accuracy: 1.0000\n",
            "Epoch 115/150\n",
            "1200/1200 [==============================] - 2s 2ms/step - loss: 3.6543e-07 - accuracy: 1.0000\n",
            "Epoch 116/150\n",
            "1200/1200 [==============================] - 2s 2ms/step - loss: 2.8308e-07 - accuracy: 1.0000\n",
            "Epoch 117/150\n",
            "1200/1200 [==============================] - 3s 2ms/step - loss: 1.4079e-07 - accuracy: 1.0000\n",
            "Epoch 118/150\n",
            "1200/1200 [==============================] - 3s 2ms/step - loss: 0.0093 - accuracy: 0.9987\n",
            "Epoch 119/150\n",
            "1200/1200 [==============================] - 3s 2ms/step - loss: 0.0028 - accuracy: 0.9994\n",
            "Epoch 120/150\n",
            "1200/1200 [==============================] - 3s 2ms/step - loss: 3.0665e-05 - accuracy: 1.0000\n",
            "Epoch 121/150\n",
            "1200/1200 [==============================] - 3s 2ms/step - loss: 2.3056e-05 - accuracy: 1.0000\n",
            "Epoch 122/150\n",
            "1200/1200 [==============================] - 3s 2ms/step - loss: 1.3464e-05 - accuracy: 1.0000\n",
            "Epoch 123/150\n",
            "1200/1200 [==============================] - 2s 2ms/step - loss: 8.2439e-06 - accuracy: 1.0000\n",
            "Epoch 124/150\n",
            "1200/1200 [==============================] - 3s 2ms/step - loss: 7.2795e-06 - accuracy: 1.0000\n",
            "Epoch 125/150\n",
            "1200/1200 [==============================] - 3s 2ms/step - loss: 3.2666e-06 - accuracy: 1.0000\n",
            "Epoch 126/150\n",
            "1200/1200 [==============================] - 2s 2ms/step - loss: 2.3039e-06 - accuracy: 1.0000\n",
            "Epoch 127/150\n",
            "1200/1200 [==============================] - 2s 2ms/step - loss: 1.4298e-06 - accuracy: 1.0000\n",
            "Epoch 128/150\n",
            "1200/1200 [==============================] - 2s 2ms/step - loss: 0.0012 - accuracy: 0.9998\n",
            "Epoch 129/150\n",
            "1200/1200 [==============================] - 4s 3ms/step - loss: 0.0100 - accuracy: 0.9978\n",
            "Epoch 130/150\n",
            "1200/1200 [==============================] - 3s 2ms/step - loss: 2.8921e-05 - accuracy: 1.0000\n",
            "Epoch 131/150\n",
            "1200/1200 [==============================] - 2s 2ms/step - loss: 9.7820e-06 - accuracy: 1.0000\n",
            "Epoch 132/150\n",
            "1200/1200 [==============================] - 2s 2ms/step - loss: 8.1071e-06 - accuracy: 1.0000\n",
            "Epoch 133/150\n",
            "1200/1200 [==============================] - 3s 2ms/step - loss: 7.0014e-06 - accuracy: 1.0000\n",
            "Epoch 134/150\n",
            "1200/1200 [==============================] - 3s 2ms/step - loss: 3.5984e-06 - accuracy: 1.0000\n",
            "Epoch 135/150\n",
            "1200/1200 [==============================] - 2s 2ms/step - loss: 2.9246e-06 - accuracy: 1.0000\n",
            "Epoch 136/150\n",
            "1200/1200 [==============================] - 3s 2ms/step - loss: 1.9854e-06 - accuracy: 1.0000\n",
            "Epoch 137/150\n",
            "1200/1200 [==============================] - 2s 2ms/step - loss: 1.4019e-06 - accuracy: 1.0000\n",
            "Epoch 138/150\n",
            "1200/1200 [==============================] - 2s 2ms/step - loss: 0.0070 - accuracy: 0.9992\n",
            "Epoch 139/150\n",
            "1200/1200 [==============================] - 2s 2ms/step - loss: 7.9788e-05 - accuracy: 1.0000\n",
            "Epoch 140/150\n",
            "1200/1200 [==============================] - 3s 2ms/step - loss: 2.4472e-06 - accuracy: 1.0000\n",
            "Epoch 141/150\n",
            "1200/1200 [==============================] - 3s 2ms/step - loss: 1.6028e-06 - accuracy: 1.0000\n",
            "Epoch 142/150\n",
            "1200/1200 [==============================] - 3s 2ms/step - loss: 1.2692e-06 - accuracy: 1.0000\n",
            "Epoch 143/150\n",
            "1200/1200 [==============================] - 2s 2ms/step - loss: 9.9839e-07 - accuracy: 1.0000\n",
            "Epoch 144/150\n",
            "1200/1200 [==============================] - 3s 2ms/step - loss: 4.8066e-07 - accuracy: 1.0000\n",
            "Epoch 145/150\n",
            "1200/1200 [==============================] - 4s 3ms/step - loss: 3.2602e-07 - accuracy: 1.0000\n",
            "Epoch 146/150\n",
            "1200/1200 [==============================] - 2s 2ms/step - loss: 2.1167e-07 - accuracy: 1.0000\n",
            "Epoch 147/150\n",
            "1200/1200 [==============================] - 2s 2ms/step - loss: 1.4636e-07 - accuracy: 1.0000\n",
            "Epoch 148/150\n",
            "1200/1200 [==============================] - 3s 2ms/step - loss: 0.0057 - accuracy: 0.9991\n",
            "Epoch 149/150\n",
            "1200/1200 [==============================] - 3s 2ms/step - loss: 0.0048 - accuracy: 0.9993\n",
            "Epoch 150/150\n",
            "1200/1200 [==============================] - 3s 2ms/step - loss: 0.0036 - accuracy: 0.9995\n"
          ]
        }
      ]
    },
    {
      "cell_type": "markdown",
      "metadata": {
        "id": "n0yTm1s-4QgS"
      },
      "source": [
        "# Evalualtion"
      ]
    },
    {
      "cell_type": "markdown",
      "metadata": {
        "id": "WsSZglfz2G6y"
      },
      "source": [
        "Let's look at the plot of loss and accuracy. You should see accuracy going up and loss going down."
      ]
    },
    {
      "cell_type": "code",
      "metadata": {
        "id": "3hlS2dIZ2FU6",
        "colab": {
          "base_uri": "https://localhost:8080/",
          "height": 282
        },
        "outputId": "14c26993-f131-4415-917b-d8580f2eb664"
      },
      "source": [
        "plt.plot(history.history['accuracy'])\n",
        "plt.plot(history.history['loss'])"
      ],
      "execution_count": null,
      "outputs": [
        {
          "output_type": "execute_result",
          "data": {
            "text/plain": [
              "[<matplotlib.lines.Line2D at 0x7f5800fbb2d0>]"
            ]
          },
          "metadata": {},
          "execution_count": 16
        },
        {
          "output_type": "display_data",
          "data": {
            "text/plain": [
              "<Figure size 432x288 with 1 Axes>"
            ],
            "image/png": "[encoded data removed]"
          },
          "metadata": {
            "needs_background": "light"
          }
        }
      ]
    },
    {
      "cell_type": "markdown",
      "metadata": {
        "id": "sj1-MpYE26Pd"
      },
      "source": [
        "Let us evaluate our model. Remember in machine learning what we are most interested in is the accuracy on the test dataset as this data represents data that the model has not seen during training so it should test the model's ability to generalize to new data."
      ]
    },
    {
      "cell_type": "code",
      "metadata": {
        "id": "zhpjCErJ25YZ",
        "colab": {
          "base_uri": "https://localhost:8080/"
        },
        "outputId": "97e0700a-eb20-4862-9126-c0d6deab9bbf"
      },
      "source": [
        "# Fill in here \n",
        "# Call the evaluate function on x_test and y_test, store output in variable called out\n",
        "# Finish line below\n",
        "# out = \n",
        "out = model.evaluate(x_test, y_test)\n",
        "print('Accuracy {:.2f}%'.format(out[1]*100))"
      ],
      "execution_count": null,
      "outputs": [
        {
          "output_type": "stream",
          "name": "stdout",
          "text": [
            "63/63 [==============================] - 0s 2ms/step - loss: 0.1428 - accuracy: 0.9925\n",
            "Accuracy 99.25%\n"
          ]
        }
      ]
    },
    {
      "cell_type": "code",
      "metadata": {
        "id": "SWwww_T_60Iu",
        "colab": {
          "base_uri": "https://localhost:8080/",
          "height": 334
        },
        "outputId": "43038f5d-11ee-44ed-fd6a-4bc6b9fe9900"
      },
      "source": [
        "picked_idx = random.randint(0, x_test.shape[0]-1)\n",
        "\n",
        "img_picked = x_test[picked_idx]\n",
        "label = y_test[picked_idx]\n",
        "print(img_picked.shape)\n",
        "pred_label = model.predict(img_picked.reshape(1, -1))\n",
        "\n",
        "plt.imshow(img_picked.reshape(28, 28))\n",
        "print('Label: ', label)\n",
        "print('Predicited Label', 1 if pred_label > 0.5 else 0)"
      ],
      "execution_count": null,
      "outputs": [
        {
          "output_type": "stream",
          "name": "stdout",
          "text": [
            "(784,)\n",
            "1/1 [==============================] - 0s 19ms/step\n",
            "Label:  1\n",
            "Predicited Label 1\n"
          ]
        },
        {
          "output_type": "display_data",
          "data": {
            "text/plain": [
              "<Figure size 432x288 with 1 Axes>"
            ],
            "image/png": "[encoded data removed]"
          },
          "metadata": {
            "needs_background": "light"
          }
        }
      ]
    },
    {
      "cell_type": "markdown",
      "metadata": {
        "id": "D-YnwLcXVg_2"
      },
      "source": [
        "#BONUS MARKS\n",
        "# Logistic Regression Using SGD"
      ]
    },
    {
      "cell_type": "markdown",
      "metadata": {
        "id": "glKbICXKmJmG"
      },
      "source": [
        "$$\\sigma (x) = \\frac {1}{1 + e^{-x}}$$\n",
        "$$y_{pred} = \\sigma (W \\cdot X^{T} + b)$$"
      ]
    },
    {
      "cell_type": "code",
      "metadata": {
        "id": "WOzJsL2baTBV"
      },
      "source": [
        "#FILL IN\n",
        "# N - batch size\n",
        "# W - weight of shape (1, num_features)\n",
        "# b - bias of shape (1,)\n",
        "# X - matrix of shape (N, num_features)\n",
        "# returns output of  ypred of shape (N,) **make sure to reshape**\n",
        "# note you have to find the dot product of W and the transpose of X (look up how to do this using numpy)\n",
        "def model_predict(W, b, X):\n",
        "  y = np.dot(W,X.T) + b\n",
        "  \n",
        "\n",
        "  def activation_fn(y):\n",
        "    # return  sigmoid function applied to y\n",
        "    # note there is a function called np.exp\n",
        "    ypred = 1 / (1 + np.exp(-y))\n",
        "    ypred = ypred.reshape((ypred.shape[1],))\n",
        "    return ypred\n",
        "  \n",
        "  return activation_fn(y)"
      ],
      "execution_count": null,
      "outputs": []
    },
    {
      "cell_type": "markdown",
      "metadata": {
        "id": "PvNdNV9wixbt"
      },
      "source": [
        "$$L = -\\frac{1}{N}\\sum y_{target}log(y_{pred}) + (1-y_{target})log(1-y_{pred})$$"
      ]
    },
    {
      "cell_type": "code",
      "metadata": {
        "id": "IQMuOnS3iCsr"
      },
      "source": [
        "# FILL IN\n",
        "# y_target - vector of targets of shape (N,)\n",
        "# y_pred - vector of predictions of shape (N, )\n",
        "# returns output of binary cross entropy loss function above\n",
        "# **note you can find the mean using np.mean**\n",
        "def loss_fn(y_target, y_pred):\n",
        "  a = np.mean(y_target * np.log(y_pred))\n",
        "  b = (1 - y_target) * np.log(1 - y_pred)\n",
        "  return -(1/y_target[0]) * a + b"
      ],
      "execution_count": null,
      "outputs": []
    },
    {
      "cell_type": "markdown",
      "metadata": {
        "id": "d8A7AY-XpBUP"
      },
      "source": [
        "$$\\frac{\\partial{L}}{\\partial{W}} = \\frac{1}{N}(y_{pred}-y_{target})\\cdot X$$\n",
        "$$\\frac{\\partial{L}}{\\partial{b}} = \\frac{1}{N}\\sum (y_{pred}-y_{target})$$"
      ]
    },
    {
      "cell_type": "code",
      "metadata": {
        "id": "Tzj05MnAnvmD"
      },
      "source": [
        "# FILL IN\n",
        "# N - batch size \n",
        "# y_pred - vector of predicitions of shape (N,)\n",
        "# y_target - vector of targets of shape (N,)\n",
        "# X - matrix of shape (N, num_features)\n",
        "# returns dl_dw, dl_db - parital derivative of loss with respect to the weights, partial derivative of loss with respect \n",
        "# to bias note you have to find the dot product\n",
        "def gradient_calc(y_pred, y_target, X):\n",
        "  N = len(X)\n",
        "  a = (y_pred - y_target)\n",
        "  dl_dw = (1/N) * np.dot(a,X)\n",
        "  dl_db = (1/N) * np.mean(a)\n",
        "  \n",
        "  return dl_dw, dl_db"
      ],
      "execution_count": null,
      "outputs": []
    },
    {
      "cell_type": "markdown",
      "metadata": {
        "id": "7LkRo2VVRhSr"
      },
      "source": [
        "# Gradient descent\n",
        "$$ W = W - \\alpha \\frac{\\partial L}{\\partial W}$$\n",
        "$$ b = b - \\alpha \\frac{\\partial L}{\\partial b}$$"
      ]
    },
    {
      "cell_type": "code",
      "metadata": {
        "id": "VTQPDi5n4h1E"
      },
      "source": [
        "# FILL IN\n",
        "# W - weight of shape (1, num_features)\n",
        "# b - bias of shape(1,)\n",
        "# alpha - learning rate\n",
        "# dl_dw - partial derivative of loss with respect to weight of shape (1, num_features)\n",
        "# dl_db - partial derivative of loss with respect to bias (1,)\n",
        "# returns W, b - updated weight and bias\n",
        "def gradient_step(W, b, dl_dw, dl_db, alpha=0.01):\n",
        "  W = W - alpha * dl_dw\n",
        "  b = b - alpha * dl_db\n",
        "  \n",
        "  return W, b"
      ],
      "execution_count": null,
      "outputs": []
    },
    {
      "cell_type": "markdown",
      "metadata": {
        "id": "GhDHd4P78nei"
      },
      "source": [
        "Initialize weight and bias"
      ]
    },
    {
      "cell_type": "code",
      "metadata": {
        "id": "kBGBap548EDj"
      },
      "source": [
        "W = np.random.randn(1, 784) \n",
        "b = np.zeros(1,)"
      ],
      "execution_count": null,
      "outputs": []
    },
    {
      "cell_type": "code",
      "metadata": {
        "id": "HqCzOk52Vw3y"
      },
      "source": [
        "num_epochs = 20 #iterations through the entire dataset\n",
        "batch_size = 16\n",
        "alpha = 0.001 # learning rate"
      ],
      "execution_count": null,
      "outputs": []
    },
    {
      "cell_type": "code",
      "metadata": {
        "id": "4D1qcUR-e5Ro",
        "colab": {
          "base_uri": "https://localhost:8080/"
        },
        "outputId": "92a2aa76-df3c-4833-b47f-665b7c6119bb"
      },
      "source": [
        "losses = []\n",
        "for i in range(num_epochs):\n",
        "  num_batches = len(x_train)//batch_size # split into mini batches\n",
        "  for j in range(num_batches):\n",
        "    X = x_train[j*batch_size:(j+1)*batch_size]\n",
        "    y_target = y_train[j*batch_size:(j+1)*batch_size]\n",
        "    y_pred = model_predict(W, b, X)\n",
        "    loss = loss_fn(y_target, y_pred)\n",
        "    dl_dw, dl_db = gradient_calc(y_pred, y_target, X)\n",
        "    W, b = gradient_step(W, b, dl_dw, dl_db, alpha)\n",
        "  losses.append(loss)\n",
        "  print('Epoch: ', i, ' Loss: ', loss)"
      ],
      "execution_count": null,
      "outputs": [
        {
          "output_type": "stream",
          "name": "stderr",
          "text": [
            "/usr/local/lib/python3.7/dist-packages/ipykernel_launcher.py:9: RuntimeWarning: divide by zero encountered in true_divide\n",
            "  if __name__ == '__main__':\n"
          ]
        },
        {
          "output_type": "stream",
          "name": "stdout",
          "text": [
            "Epoch:  0  Loss:  [ 0.21942486  0.21942486  0.21074525 -0.18604791  0.21942486  0.21942486\n",
            "  0.19081434  0.21942486  0.21942486  0.21942486  0.19016639  0.20841015\n",
            "  0.21942486  0.21942486  0.21942486 -2.08051077]\n",
            "Epoch:  1  Loss:  [ 0.16507119  0.16507119  0.1621199  -0.04741631  0.16507119  0.16507119\n",
            "  0.15485874  0.16507119  0.16507119  0.16507119  0.15678598  0.16268994\n",
            "  0.16507119  0.16507119  0.16507119 -1.62749761]\n",
            "Epoch:  2  Loss:  [ 0.14081802  0.14081802  0.13932228  0.00179829  0.14081802  0.14081802\n",
            "  0.13555378  0.14081802  0.14081802  0.14081802  0.13691326  0.13992125\n",
            "  0.14081802  0.14081802  0.14081802 -1.35210106]\n",
            "Epoch:  3  Loss:  [ 0.12377274  0.12377274  0.12284495  0.02082613  0.12377274  0.12377274\n",
            "  0.12049731  0.12377274  0.12377274  0.12377274  0.12138137  0.12332441\n",
            "  0.12377274  0.12377274  0.12377274 -1.17156846]\n",
            "Epoch:  4  Loss:  [ 0.10958912  0.10958912  0.10894446  0.02781025  0.10958912  0.10958912\n",
            "  0.10732254  0.10958912  0.10958912  0.10958912  0.10788955  0.10932582\n",
            "  0.10958912  0.10958912  0.10958912 -1.0442015 ]\n",
            "Epoch:  5  Loss:  [ 0.0970724   0.0970724   0.09659144  0.0291965   0.0970724   0.0970724\n",
            "  0.09539497  0.0970724   0.0970724   0.0970724   0.0957461   0.09690116\n",
            "  0.0970724   0.0970724   0.0970724  -0.94946318]\n",
            "Epoch:  6  Loss:  [ 0.08584469  0.08584469  0.0854682   0.0278318   0.08584469  0.08584469\n",
            "  0.08454515  0.08584469  0.08584469  0.08584469  0.08474255  0.08572529\n",
            "  0.08584469  0.08584469  0.08584469 -0.87605893]\n",
            "Epoch:  7  Loss:  [ 0.07576082  0.07576082  0.07545584  0.02514346  0.07576082  0.07576082\n",
            "  0.07472036  0.07576082  0.07576082  0.07576082  0.07480345  0.07567328\n",
            "  0.07576082  0.07576082  0.07576082 -0.81727754]\n",
            "Epoch:  8  Loss:  [ 0.06674092  0.06674092  0.06648751  0.02190233  0.06674092  0.06674092\n",
            "  0.06588708  0.06674092  0.06674092  0.06674092  0.06588196  0.06667427\n",
            "  0.06674092  0.06674092  0.06674092 -0.76889118]\n",
            "Epoch:  9  Loss:  [ 0.05871846  0.05871846  0.05850377  0.0185399   0.05871846  0.05871846\n",
            "  0.05800426  0.05871846  0.05871846  0.05871846  0.05792891  0.05866623\n",
            "  0.05871846  0.05871846  0.05871846 -0.7281147 ]\n",
            "Epoch:  10  Loss:  [ 0.05162483  0.05162483  0.05144012  0.0152977   0.05162483  0.05162483\n",
            "  0.05101828  0.05162483  0.05162483  0.05162483  0.05088553  0.05158293\n",
            "  0.05162483  0.05162483  0.05162483 -0.69304861]\n",
            "Epoch:  11  Loss:  [ 0.0453864   0.0453864   0.04522551  0.01230537  0.0453864   0.0453864\n",
            "  0.04486487  0.0453864   0.0453864   0.0453864   0.04468417  0.04535214\n",
            "  0.0453864   0.0453864   0.0453864  -0.66236069]\n",
            "Epoch:  12  Loss:  [ 0.03992593  0.03992593  0.03978439  0.00962466  0.03992593  0.03992593\n",
            "  0.03947291  0.03992593  0.03992593  0.03992593  0.03925145  0.0398975\n",
            "  0.03992593  0.03992593  0.03992593 -0.63509433]\n",
            "Epoch:  13  Loss:  [ 0.03516518  0.03516518  0.03503959  0.0072758   0.03516518  0.03516518\n",
            "  0.03476827  0.03516518  0.03516518  0.03516518  0.03451167  0.03514126\n",
            "  0.03516518  0.03516518  0.03516518 -0.61054874]\n",
            "Epoch:  14  Loss:  [ 0.03102728  0.03102728  0.03091507  0.00525383  0.03102728  0.03102728\n",
            "  0.03067701  0.03102728  0.03102728  0.03102728  0.03038978  0.03100694\n",
            "  0.03102728  0.03102728  0.03102728 -0.58820159]\n",
            "Epoch:  15  Loss:  [ 0.02743885  0.02743885  0.02733799  0.0035391   0.02743885  0.02743885\n",
            "  0.0271278   0.02743885  0.02743885  0.02743885  0.02681368  0.02742139\n",
            "  0.02743885  0.02743885  0.02743885 -0.56765791]\n",
            "Epoch:  16  Loss:  [ 0.02433136  0.02433136  0.02424024  0.00210412  0.02433136  0.02433136\n",
            "  0.02405365  0.02433136  0.02433136  0.02433136  0.0237158   0.02431625\n",
            "  0.02433136  0.02433136  0.02433136 -0.54861541]\n",
            "Epoch:  17  Loss:  [ 0.0216421   0.0216421   0.02155941  0.00091795  0.0216421   0.0216421\n",
            "  0.02139298  0.0216421   0.0216421   0.0216421   0.02103415  0.02162893\n",
            "  0.0216421   0.0216421   0.0216421  -0.5308404 ]\n",
            "Epoch:  18  Loss:  [ 1.93145385e-02  1.93145385e-02  1.92392215e-02 -5.09156016e-05\n",
            "  1.93145385e-02  1.93145385e-02  1.90901490e-02  1.93145385e-02\n",
            "  1.93145385e-02  1.93145385e-02  1.87127683e-02  1.93029860e-02\n",
            "  1.93145385e-02  1.93145385e-02  1.93145385e-02 -5.14150749e-01]\n",
            "Epoch:  19  Loss:  [ 0.01729847  0.01729847  0.01722963 -0.00083277  0.01729847  0.01729847\n",
            "  0.01709561  0.01729847  0.01729847  0.01729847  0.01670187  0.01728828\n",
            "  0.01729847  0.01729847  0.01729847 -0.49840347]\n"
          ]
        }
      ]
    },
    {
      "cell_type": "markdown",
      "metadata": {
        "id": "DyIPJjCJ86i0"
      },
      "source": [
        "Let us now plot the loss"
      ]
    },
    {
      "cell_type": "code",
      "metadata": {
        "id": "UQpWfppdWQrf",
        "colab": {
          "base_uri": "https://localhost:8080/",
          "height": 543
        },
        "outputId": "43910d15-2d46-4d59-907d-306e7e9b9875"
      },
      "source": [
        "plt.plot(losses)"
      ],
      "execution_count": null,
      "outputs": [
        {
          "output_type": "execute_result",
          "data": {
            "text/plain": [
              "[<matplotlib.lines.Line2D at 0x7f5800e48b90>,\n",
              " <matplotlib.lines.Line2D at 0x7f5800e48f90>,\n",
              " <matplotlib.lines.Line2D at 0x7f5800e48610>,\n",
              " <matplotlib.lines.Line2D at 0x7f5800e489d0>,\n",
              " <matplotlib.lines.Line2D at 0x7f5800e41f90>,\n",
              " <matplotlib.lines.Line2D at 0x7f5800e41890>,\n",
              " <matplotlib.lines.Line2D at 0x7f5800e32a50>,\n",
              " <matplotlib.lines.Line2D at 0x7f5800e32110>,\n",
              " <matplotlib.lines.Line2D at 0x7f5800e413d0>,\n",
              " <matplotlib.lines.Line2D at 0x7f5800e41050>,\n",
              " <matplotlib.lines.Line2D at 0x7f5800e48d50>,\n",
              " <matplotlib.lines.Line2D at 0x7f5800e3bcd0>,\n",
              " <matplotlib.lines.Line2D at 0x7f5800e3bb90>,\n",
              " <matplotlib.lines.Line2D at 0x7f5800e3b5d0>,\n",
              " <matplotlib.lines.Line2D at 0x7f5800e3be10>,\n",
              " <matplotlib.lines.Line2D at 0x7f5800e5f950>]"
            ]
          },
          "metadata": {},
          "execution_count": 27
        },
        {
          "output_type": "display_data",
          "data": {
            "text/plain": [
              "<Figure size 432x288 with 1 Axes>"
            ],
            "image/png": "[encoded data removed]"
          },
          "metadata": {
            "needs_background": "light"
          }
        }
      ]
    },
    {
      "cell_type": "markdown",
      "metadata": {
        "id": "tnl2qbaqaqw3"
      },
      "source": [
        "# Evaluation/Test"
      ]
    },
    {
      "cell_type": "code",
      "metadata": {
        "id": "zPXQTHm0aaHD",
        "colab": {
          "base_uri": "https://localhost:8080/",
          "height": 317
        },
        "outputId": "377b4085-9165-4f4e-e606-576f4ea455b2"
      },
      "source": [
        "picked_idx = random.randint(0, x_test.shape[0]-1)\n",
        "\n",
        "img_picked = x_test[picked_idx]\n",
        "label = y_test[picked_idx]\n",
        "print(img_picked.shape)\n",
        "pred_label = model_predict(W, b, img_picked.reshape(1, -1))\n",
        "plt.imshow(img_picked.reshape(28, 28))\n",
        "print('Label: ', label)\n",
        "print('Predicited Label', 1 if pred_label > 0.5 else 0)"
      ],
      "execution_count": null,
      "outputs": [
        {
          "output_type": "stream",
          "name": "stdout",
          "text": [
            "(784,)\n",
            "Label:  1\n",
            "Predicited Label 1\n"
          ]
        },
        {
          "output_type": "display_data",
          "data": {
            "text/plain": [
              "<Figure size 432x288 with 1 Axes>"
            ],
            "image/png": "[encoded data removed]"
          },
          "metadata": {
            "needs_background": "light"
          }
        }
      ]
    },
    {
      "cell_type": "markdown",
      "metadata": {
        "id": "Zumoi8I29FGz"
      },
      "source": [
        "Let us see how well your model did."
      ]
    },
    {
      "cell_type": "code",
      "metadata": {
        "id": "SI4L0XEWa-Ez",
        "colab": {
          "base_uri": "https://localhost:8080/"
        },
        "outputId": "0eee4b4a-4253-4f39-e816-b86c8bfca258"
      },
      "source": [
        "eval_pred = model_predict(W, b, x_test)\n",
        "eval_pred = (eval_pred > 0.5).astype(float) # anything with more than 50% probability is seen as a 1\n",
        "accuracy = np.mean((eval_pred == y_test).astype(float))\n",
        "print('Accuracy: {:.2f}%'.format(float(accuracy*100)))"
      ],
      "execution_count": null,
      "outputs": [
        {
          "output_type": "stream",
          "name": "stdout",
          "text": [
            "Accuracy: 93.85%\n"
          ]
        }
      ]
    },
    {
      "cell_type": "markdown",
      "metadata": {
        "id": "dn5mhYrSbLhx"
      },
      "source": [
        "# Convolutional Neural Network\n",
        "\n",
        "See if you can create a convolutional neural network to get even better accuracy."
      ]
    },
    {
      "cell_type": "code",
      "metadata": {
        "id": "PTU1rRQVbOoU"
      },
      "source": [],
      "execution_count": null,
      "outputs": []
    }
  ]
}